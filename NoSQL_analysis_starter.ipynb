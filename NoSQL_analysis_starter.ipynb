{
 "cells": [
  {
   "cell_type": "markdown",
   "id": "9a57c4c6",
   "metadata": {},
   "source": [
    "# Eat Safe, Love"
   ]
  },
  {
   "cell_type": "markdown",
   "id": "064ef857",
   "metadata": {},
   "source": [
    "## Notebook Set Up"
   ]
  },
  {
   "cell_type": "code",
   "execution_count": 37,
   "id": "3ecdd008",
   "metadata": {},
   "outputs": [],
   "source": [
    "# Import dependencies\n",
    "from pymongo import MongoClient\n",
    "from pprint import pprint\n",
    "import pandas as pd"
   ]
  },
  {
   "cell_type": "code",
   "execution_count": 38,
   "id": "59390c4a",
   "metadata": {},
   "outputs": [],
   "source": [
    "# Create an instance of MongoClient\n",
    "mongo = MongoClient(port=27017)"
   ]
  },
  {
   "cell_type": "code",
   "execution_count": 39,
   "id": "71e373c1",
   "metadata": {},
   "outputs": [],
   "source": [
    "# assign the uk_food database to a variable name\n",
    "db = mongo['uk_food']"
   ]
  },
  {
   "cell_type": "code",
   "execution_count": 40,
   "id": "18ab463c",
   "metadata": {},
   "outputs": [
    {
     "name": "stdout",
     "output_type": "stream",
     "text": [
      "Collections in the 'uk_food' database:\n",
      "establishments\n"
     ]
    }
   ],
   "source": [
    "# review the collections in our database\n",
    "collections = db.list_collection_names()\n",
    "\n",
    "print(\"Collections in the 'uk_food' database:\")\n",
    "for collection in collections:\n",
    "    print(collection)"
   ]
  },
  {
   "cell_type": "code",
   "execution_count": 41,
   "id": "11c9f11b",
   "metadata": {},
   "outputs": [],
   "source": [
    "# assign the collection to a variable\n",
    "establishments = db['establishments']"
   ]
  },
  {
   "cell_type": "markdown",
   "id": "d5671434",
   "metadata": {},
   "source": [
    "## Part 3: Exploratory Analysis\n",
    "Unless otherwise stated, for each question: \n",
    "* Use `count_documents` to display the number of documents contained in the result.\n",
    "* Display the first document in the results using `pprint`.\n",
    "* Convert the result to a Pandas DataFrame, print the number of rows in the DataFrame, and display the first 10 rows."
   ]
  },
  {
   "cell_type": "markdown",
   "id": "314bd884",
   "metadata": {},
   "source": [
    "### 1. Which establishments have a hygiene score equal to 20?"
   ]
  },
  {
   "cell_type": "code",
   "execution_count": 6,
   "id": "c2da7648",
   "metadata": {},
   "outputs": [
    {
     "name": "stdout",
     "output_type": "stream",
     "text": [
      "Number of establishments with a hygiene score of 20: 41\n",
      "First establishment with a hygiene score of 20:\n",
      "{'AddressLine1': '5-6 Southfields Road',\n",
      " 'AddressLine2': 'Eastbourne',\n",
      " 'AddressLine3': 'East Sussex',\n",
      " 'AddressLine4': '',\n",
      " 'BusinessName': 'The Chase Rest Home',\n",
      " 'BusinessType': 'Caring Premises',\n",
      " 'BusinessTypeID': 5,\n",
      " 'ChangesByServerID': 0,\n",
      " 'Distance': 4613.888288172291,\n",
      " 'FHRSID': 110681,\n",
      " 'LocalAuthorityBusinessID': '4029',\n",
      " 'LocalAuthorityCode': '102',\n",
      " 'LocalAuthorityEmailAddress': 'Customerfirst@eastbourne.gov.uk',\n",
      " 'LocalAuthorityName': 'Eastbourne',\n",
      " 'LocalAuthorityWebSite': 'http://www.eastbourne.gov.uk/foodratings',\n",
      " 'Phone': '',\n",
      " 'PostCode': 'BN21 1BU',\n",
      " 'RatingDate': '2021-09-23T00:00:00',\n",
      " 'RatingKey': 'fhrs_0_en-gb',\n",
      " 'RatingValue': 0,\n",
      " 'RightToReply': '',\n",
      " 'SchemeType': 'FHRS',\n",
      " '_id': ObjectId('6510d0cd2a220487fa93d8f4'),\n",
      " 'geocode': {'latitude': {'$convert': {'input': '$geocode.latitude',\n",
      "                                       'to': 'decimal'}},\n",
      "             'longitude': {'$convert': {'input': '$geocode.longitude',\n",
      "                                        'to': 'decimal'}}},\n",
      " 'links': [{'href': 'https://api.ratings.food.gov.uk/establishments/110681',\n",
      "            'rel': 'self'}],\n",
      " 'meta': {'dataSource': None,\n",
      "          'extractDate': '0001-01-01T00:00:00',\n",
      "          'itemCount': 0,\n",
      "          'pageNumber': 0,\n",
      "          'pageSize': 0,\n",
      "          'returncode': None,\n",
      "          'totalCount': 0,\n",
      "          'totalPages': 0},\n",
      " 'scores': {'ConfidenceInManagement': 20, 'Hygiene': 20, 'Structural': 20}}\n"
     ]
    }
   ],
   "source": [
    "# Find the establishments with a hygiene score of 20\n",
    "#query =\n",
    "# Use count_documents to display the number of documents in the result\n",
    "# Display the first document in the results using pprint\n",
    "\n",
    "# Define the query to find establishments with a hygiene score of 20\n",
    "query = {\n",
    "    \"scores.Hygiene\": 20  # Assuming the field name is \"Hygiene\" for the hygiene score\n",
    "}\n",
    "\n",
    "# Use the count_documents method to count the number of matching documents\n",
    "count = establishments.count_documents(query)\n",
    "\n",
    "# Print the number of documents that match the query\n",
    "print(f\"Number of establishments with a hygiene score of 20: {count}\")\n",
    "\n",
    "# Use the find method to retrieve the first document in the results\n",
    "result = establishments.find_one(query)\n",
    "\n",
    "# Display the first document in the results using pprint\n",
    "if result:\n",
    "    print(\"First establishment with a hygiene score of 20:\")\n",
    "    pprint(result)\n",
    "else:\n",
    "    print(\"No establishments found with a hygiene score of 20.\")\n",
    "\n",
    "\n",
    "    \n"
   ]
  },
  {
   "cell_type": "code",
   "execution_count": 7,
   "id": "a6e5cece",
   "metadata": {},
   "outputs": [
    {
     "name": "stdout",
     "output_type": "stream",
     "text": [
      "Number of rows in the DataFrame: 41\n",
      "The first 10 rows of the DataFrame:\n",
      "                        _id   FHRSID  ChangesByServerID  \\\n",
      "0  6510d0cd2a220487fa93d8f4   110681                  0   \n",
      "1  6510d0cd2a220487fa93dc75   612039                  0   \n",
      "2  6510d0cd2a220487fa93df7f   730933                  0   \n",
      "3  6510d0cd2a220487fa93e16d   172735                  0   \n",
      "4  6510d0cd2a220487fa93e17c   172953                  0   \n",
      "5  6510d0ce2a220487fa93eb1b   512854                  0   \n",
      "6  6510d0ce2a220487fa93ed3c  1537089                  0   \n",
      "7  6510d0ce2a220487fa940267   155648                  0   \n",
      "8  6510d0cf2a220487fa9406ab  1012883                  0   \n",
      "9  6510d0cf2a220487fa940ebd   644109                  0   \n",
      "\n",
      "  LocalAuthorityBusinessID               BusinessName  \\\n",
      "0                     4029        The Chase Rest Home   \n",
      "1                1970/FOOD                 Brenalwood   \n",
      "2                1698/FOOD              Melrose Hotel   \n",
      "3             PI/000023858              Seaford Pizza   \n",
      "4             PI/000024532              Golden Palace   \n",
      "5            12/00816/BUTH           Ashby's Butchers   \n",
      "6          22/00224/RESTUN  South Sea Express Cuisine   \n",
      "7              EH/00006058              Golden Palace   \n",
      "8         17/00110/MIXED/S             The Tulip Tree   \n",
      "9                    41811                      F & S   \n",
      "\n",
      "                        BusinessType  BusinessTypeID           AddressLine1  \\\n",
      "0                    Caring Premises               5   5-6 Southfields Road   \n",
      "1                    Caring Premises               5              Hall Lane   \n",
      "2  Hotel/bed & breakfast/guest house            7842  53 Marine Parade East   \n",
      "3             Takeaway/sandwich shop            7844          4 High Street   \n",
      "4            Restaurant/Cafe/Canteen               1         5 South Street   \n",
      "5                  Retailers - other            4613   777 Southchurch Road   \n",
      "6            Restaurant/Cafe/Canteen               1    33 Alexandra Street   \n",
      "7             Takeaway/sandwich shop            7844          7 London Road   \n",
      "8            Restaurant/Cafe/Canteen               1          3 The Village   \n",
      "9                  Retailers - other            4613                          \n",
      "\n",
      "         AddressLine2 AddressLine3  ... LocalAuthorityName  \\\n",
      "0          Eastbourne  East Sussex  ...         Eastbourne   \n",
      "1  Walton-on-the-Naze        Essex  ...           Tendring   \n",
      "2      Clacton On Sea        Essex  ...           Tendring   \n",
      "3             Seaford  East Sussex  ...              Lewes   \n",
      "4             Seaford  East Sussex  ...              Lewes   \n",
      "5     Southend-On-Sea        Essex  ...    Southend-On-Sea   \n",
      "6     Southend-on-sea        Essex  ...    Southend-On-Sea   \n",
      "7            Rayleigh        Essex  ...           Rochford   \n",
      "8       Chiddingstone         KENT  ...          Sevenoaks   \n",
      "9      81 Southernhay     Basildon  ...           Basildon   \n",
      "\n",
      "                      LocalAuthorityWebSite  \\\n",
      "0  http://www.eastbourne.gov.uk/foodratings   \n",
      "1             http://www.tendringdc.gov.uk/   \n",
      "2             http://www.tendringdc.gov.uk/   \n",
      "3       http://www.lewes-eastbourne.gov.uk/   \n",
      "4       http://www.lewes-eastbourne.gov.uk/   \n",
      "5                http://www.southend.gov.uk   \n",
      "6                http://www.southend.gov.uk   \n",
      "7                http://www.rochford.gov.uk   \n",
      "8              http://www.sevenoaks.gov.uk/   \n",
      "9                http://www.basildon.gov.uk   \n",
      "\n",
      "              LocalAuthorityEmailAddress  \\\n",
      "0        Customerfirst@eastbourne.gov.uk   \n",
      "1             fhsadmin@tendringdc.gov.uk   \n",
      "2             fhsadmin@tendringdc.gov.uk   \n",
      "3    ehealth.ldc@lewes-eastbourne.gov.uk   \n",
      "4    ehealth.ldc@lewes-eastbourne.gov.uk   \n",
      "5    EnvironmentalHealth@southend.gov.uk   \n",
      "6    EnvironmentalHealth@southend.gov.uk   \n",
      "7       customerservices@rochford.gov.uk   \n",
      "8  environmental.health@sevenoaks.gov.uk   \n",
      "9                    ehs@basildon.gov.uk   \n",
      "\n",
      "                                              scores SchemeType  \\\n",
      "0  {'Hygiene': 20, 'Structural': 20, 'ConfidenceI...       FHRS   \n",
      "1  {'Hygiene': 20, 'Structural': 15, 'ConfidenceI...       FHRS   \n",
      "2  {'Hygiene': 20, 'Structural': 20, 'ConfidenceI...       FHRS   \n",
      "3  {'Hygiene': 20, 'Structural': 10, 'ConfidenceI...       FHRS   \n",
      "4  {'Hygiene': 20, 'Structural': 10, 'ConfidenceI...       FHRS   \n",
      "5  {'Hygiene': 20, 'Structural': 20, 'ConfidenceI...       FHRS   \n",
      "6  {'Hygiene': 20, 'Structural': 20, 'ConfidenceI...       FHRS   \n",
      "7  {'Hygiene': 20, 'Structural': 15, 'ConfidenceI...       FHRS   \n",
      "8  {'Hygiene': 20, 'Structural': 5, 'ConfidenceIn...       FHRS   \n",
      "9  {'Hygiene': 20, 'Structural': 20, 'ConfidenceI...       FHRS   \n",
      "\n",
      "                                             geocode RightToReply  \\\n",
      "0  {'longitude': {'$convert': {'input': '$geocode...                \n",
      "1  {'longitude': {'$convert': {'input': '$geocode...                \n",
      "2  {'longitude': {'$convert': {'input': '$geocode...                \n",
      "3  {'longitude': {'$convert': {'input': '$geocode...                \n",
      "4  {'longitude': {'$convert': {'input': '$geocode...                \n",
      "5  {'longitude': {'$convert': {'input': '$geocode...                \n",
      "6  {'longitude': {'$convert': {'input': '$geocode...                \n",
      "7  {'longitude': {'$convert': {'input': '$geocode...                \n",
      "8  {'longitude': {'$convert': {'input': '$geocode...                \n",
      "9  {'longitude': {'$convert': {'input': '$geocode...                \n",
      "\n",
      "      Distance                                               meta  \\\n",
      "0  4613.888288  {'dataSource': None, 'extractDate': '0001-01-0...   \n",
      "1  4617.965824  {'dataSource': None, 'extractDate': '0001-01-0...   \n",
      "2  4619.656144  {'dataSource': None, 'extractDate': '0001-01-0...   \n",
      "3  4620.421725  {'dataSource': None, 'extractDate': '0001-01-0...   \n",
      "4  4620.437179  {'dataSource': None, 'extractDate': '0001-01-0...   \n",
      "5  4625.565258  {'dataSource': None, 'extractDate': '0001-01-0...   \n",
      "6  4626.200132  {'dataSource': None, 'extractDate': '0001-01-0...   \n",
      "7  4632.276890  {'dataSource': None, 'extractDate': '0001-01-0...   \n",
      "8  4633.934041  {'dataSource': None, 'extractDate': '0001-01-0...   \n",
      "9  4636.552523  {'dataSource': None, 'extractDate': '0001-01-0...   \n",
      "\n",
      "                                               links  \n",
      "0  [{'rel': 'self', 'href': 'https://api.ratings....  \n",
      "1  [{'rel': 'self', 'href': 'https://api.ratings....  \n",
      "2  [{'rel': 'self', 'href': 'https://api.ratings....  \n",
      "3  [{'rel': 'self', 'href': 'https://api.ratings....  \n",
      "4  [{'rel': 'self', 'href': 'https://api.ratings....  \n",
      "5  [{'rel': 'self', 'href': 'https://api.ratings....  \n",
      "6  [{'rel': 'self', 'href': 'https://api.ratings....  \n",
      "7  [{'rel': 'self', 'href': 'http://api.ratings.f...  \n",
      "8  [{'rel': 'self', 'href': 'http://api.ratings.f...  \n",
      "9  [{'rel': 'self', 'href': 'http://api.ratings.f...  \n",
      "\n",
      "[10 rows x 27 columns]\n"
     ]
    }
   ],
   "source": [
    "# Convert the result to a Pandas DataFrame\n",
    "result_list = list(establishments.find(query))\n",
    "\n",
    "df = pd.DataFrame(result_list)\n",
    "\n",
    "# Display the number of rows in the DataFrame\n",
    "row_count = df.shape[0]\n",
    "print(\"Number of rows in the DataFrame:\", row_count)\n",
    "\n",
    "# Display the first 10 rows of the DataFrame\n",
    "first_10_rows = df.head(10)\n",
    "print(\"The first 10 rows of the DataFrame:\")\n",
    "print(first_10_rows)\n"
   ]
  },
  {
   "cell_type": "markdown",
   "id": "0ef4395a",
   "metadata": {},
   "source": [
    "### 2. Which establishments in London have a `RatingValue` greater than or equal to 4?"
   ]
  },
  {
   "cell_type": "code",
   "execution_count": 8,
   "id": "93c63829",
   "metadata": {},
   "outputs": [
    {
     "name": "stdout",
     "output_type": "stream",
     "text": [
      "Number of establishments in London with RatingValue >= 4: 0\n",
      "No establishments found that match the criteria.\n"
     ]
    }
   ],
   "source": [
    "# Find the establishments with London as the Local Authority and has a RatingValue greater than or equal to 4.\n",
    "query = {\n",
    "    \"LocalAuthorityName\": \"London\",\n",
    "    \"RatingValue\": {\"$gte\": 4}\n",
    "}\n",
    "\n",
    "# Use count_documents to display the number of documents in the result\n",
    "count = db.uk_food.establishments.count_documents(query)\n",
    "\n",
    "print(\"Number of establishments in London with RatingValue >= 4:\", count)\n",
    "\n",
    "# Display the first document in the results using pprint\n",
    "first_document = db.uk_food.establishments.find_one(query)\n",
    "\n",
    "if first_document:\n",
    "    print(\"First establishment in the results:\")\n",
    "    pprint(first_document)\n",
    "else:\n",
    "    print(\"No establishments found that match the criteria.\")\n"
   ]
  },
  {
   "cell_type": "code",
   "execution_count": 11,
   "id": "07e24ccb",
   "metadata": {},
   "outputs": [
    {
     "name": "stdout",
     "output_type": "stream",
     "text": [
      "Number of rows in the DataFrame: 0\n",
      "The first 10 rows of the DataFrame:\n",
      "Empty DataFrame\n",
      "Columns: []\n",
      "Index: []\n"
     ]
    }
   ],
   "source": [
    "# Convert the result to a Pandas DataFrame\n",
    "\n",
    "result = db.uk_food.establishments.find(query)\n",
    "result_list = list(result)\n",
    "df = pd.DataFrame(result_list)\n",
    "\n",
    "# Display the number of rows in the DataFrame\n",
    "\n",
    "row_count = df.shape[0]\n",
    "print(\"Number of rows in the DataFrame:\", row_count)\n",
    "\n",
    "# Display the first 10 rows of the DataFrame\n",
    "\n",
    "first_10_rows = df.head(10)\n",
    "print(\"The first 10 rows of the DataFrame:\")\n",
    "print(first_10_rows)\n"
   ]
  },
  {
   "cell_type": "markdown",
   "id": "4e570caf",
   "metadata": {},
   "source": [
    "### 3. What are the top 5 establishments with a `RatingValue` rating value of 5, sorted by lowest hygiene score, nearest to the new restaurant added, \"Penang Flavours\"?"
   ]
  },
  {
   "cell_type": "code",
   "execution_count": 36,
   "id": "7f599f3d",
   "metadata": {},
   "outputs": [],
   "source": [
    "# Define the latitude and longitude for \"Penang Flavours\" (assuming you have the coordinates)\n",
    "latitude = 51.490142\n",
    "longitude = 0.08384\n",
    "degree_search = 0.01\n",
    "\n",
    "# Define the query to find establishments with RatingValue equal to 5 and within the specified latitude and longitude range\n",
    "query = {\n",
    "    \"RatingValue\": 5,\n",
    "    \"geocode.latitude\": {\"$gte\": latitude - degree_search, \"$lte\": latitude + degree_search},\n",
    "    \"geocode.longitude\": {\"$gte\": longitude - degree_search, \"$lte\": longitude + degree_search}\n",
    "}\n",
    "\n",
    "# Define the sort criteria to sort by hygiene score in ascending order\n",
    "sort = [(\"scores.Hygiene\", 1)]\n",
    "\n",
    "# Limit the query to the top 5 results\n",
    "results = db.establishments.find(query).sort(sort).limit(5)\n",
    "\n",
    "# Print the results\n",
    "for result in results:\n",
    "    pprint(result)\n"
   ]
  },
  {
   "cell_type": "code",
   "execution_count": 14,
   "id": "a6ad16f7",
   "metadata": {},
   "outputs": [
    {
     "name": "stdout",
     "output_type": "stream",
     "text": [
      "Empty DataFrame\n",
      "Columns: []\n",
      "Index: []\n"
     ]
    }
   ],
   "source": [
    "# Convert result to Pandas DataFrame\n",
    "df = pd.DataFrame(results)\n",
    "\n",
    "# Display the Pandas DataFrame\n",
    "print(df)"
   ]
  },
  {
   "cell_type": "markdown",
   "id": "67281254",
   "metadata": {},
   "source": [
    "### 4. How many establishments in each Local Authority area have a hygiene score of 0?"
   ]
  },
  {
   "cell_type": "code",
   "execution_count": 42,
   "id": "4eeb227e",
   "metadata": {},
   "outputs": [
    {
     "name": "stdout",
     "output_type": "stream",
     "text": [
      "Number of documents in the result: 55\n",
      "The first 10 results:\n",
      "1. Local Authority: Thanet, Count: 1130\n",
      "2. Local Authority: Greenwich, Count: 882\n",
      "3. Local Authority: Maidstone, Count: 713\n",
      "4. Local Authority: Newham, Count: 711\n",
      "5. Local Authority: Swale, Count: 686\n",
      "6. Local Authority: Chelmsford, Count: 680\n",
      "7. Local Authority: Medway, Count: 672\n",
      "8. Local Authority: Bexley, Count: 607\n",
      "9. Local Authority: Southend-On-Sea, Count: 586\n",
      "10. Local Authority: Tendring, Count: 542\n"
     ]
    }
   ],
   "source": [
    "# Create a pipeline that: \n",
    "# 1. Matches establishments with a hygiene score of 0\n",
    "# 2. Groups the matches by Local Authority\n",
    "# 3. Sorts the matches from highest to lowest\n",
    "# Print the number of documents in the result\n",
    "# Print the first 10 results\n",
    "\n",
    "# Define the query to find establishments with a hygiene score of 0\n",
    "query = {\n",
    "    \"scores.Hygiene\": {\n",
    "        \"$eq\": 0\n",
    "    }\n",
    "}\n",
    "\n",
    "# Assuming 'db' is the MongoClient instance and 'establishments' is the collection\n",
    "cursor = db.establishments.find(query)\n",
    "\n",
    "# Initialize a dictionary to store the counts for each Local Authority\n",
    "counts = {}\n",
    "\n",
    "# Iterate through the cursor and count the establishments for each Local Authority\n",
    "for doc in cursor:\n",
    "    local_authority = doc[\"LocalAuthorityName\"]\n",
    "    counts[local_authority] = counts.get(local_authority, 0) + 1\n",
    "\n",
    "# Convert the dictionary to a list of tuples for sorting\n",
    "sorted_counts = sorted(counts.items(), key=lambda x: x[1], reverse=True)\n",
    "\n",
    "# Print the number of documents in the result\n",
    "print(\"Number of documents in the result:\", len(sorted_counts))\n",
    "\n",
    "# Print the first 10 results\n",
    "print(\"The first 10 results:\")\n",
    "for i, (local_authority, count) in enumerate(sorted_counts[:10]):\n",
    "    print(f\"{i + 1}. Local Authority: {local_authority}, Count: {count}\")\n"
   ]
  },
  {
   "cell_type": "code",
   "execution_count": 44,
   "id": "d8aab364",
   "metadata": {},
   "outputs": [
    {
     "name": "stdout",
     "output_type": "stream",
     "text": [
      "Number of rows in the DataFrame: 0\n",
      "The first 10 rows of the DataFrame:\n",
      "Empty DataFrame\n",
      "Columns: []\n",
      "Index: []\n"
     ]
    }
   ],
   "source": [
    "# Convert the cursor to a Pandas DataFrame\n",
    "df = pd.DataFrame(cursor)\n",
    "\n",
    "# Display the number of rows in the DataFrame\n",
    "row_count = len(df)\n",
    "print(\"Number of rows in the DataFrame:\", row_count)\n",
    "\n",
    "# Display the first 10 rows of the DataFrame\n",
    "print(\"The first 10 rows of the DataFrame:\")\n",
    "print(df.head(10))"
   ]
  },
  {
   "cell_type": "code",
   "execution_count": null,
   "id": "65455f07",
   "metadata": {},
   "outputs": [],
   "source": []
  }
 ],
 "metadata": {
  "kernelspec": {
   "display_name": "Python 3 (ipykernel)",
   "language": "python",
   "name": "python3"
  },
  "language_info": {
   "codemirror_mode": {
    "name": "ipython",
    "version": 3
   },
   "file_extension": ".py",
   "mimetype": "text/x-python",
   "name": "python",
   "nbconvert_exporter": "python",
   "pygments_lexer": "ipython3",
   "version": "3.10.9"
  }
 },
 "nbformat": 4,
 "nbformat_minor": 5
}
